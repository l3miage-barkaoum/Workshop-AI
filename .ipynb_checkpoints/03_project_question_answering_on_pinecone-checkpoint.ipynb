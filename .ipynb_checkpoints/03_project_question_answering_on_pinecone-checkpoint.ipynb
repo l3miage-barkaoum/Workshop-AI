{
 "cells": [
  {
   "cell_type": "markdown",
   "id": "640e4bbc",
   "metadata": {},
   "source": [
    "# Project: Question-Answering on Private Documents"
   ]
  },
  {
   "cell_type": "markdown",
   "id": "e63104e5-c8bc-4be5-8bf1-0b144f56c194",
   "metadata": {},
   "source": [
    "## Here is all the package needed"
   ]
  },
  {
   "cell_type": "code",
   "execution_count": null,
   "id": "ed9cc16b-60c7-467d-85d7-fdf20e4b365b",
   "metadata": {},
   "outputs": [],
   "source": [
    "!pip install pypdf -q\n",
    "#Once install you don't need to explicitly import pypdf after installing it, because it's already there ready to use"
   ]
  },
  {
   "cell_type": "code",
   "execution_count": null,
   "id": "b2fe4db2-cf37-4f62-8f25-968d9f551fa5",
   "metadata": {},
   "outputs": [],
   "source": [
    "!pip install docx2txt -q\n",
    "#Once install you don't need to explicitly import pypdf after installing it, because it's already there ready to use"
   ]
  },
  {
   "cell_type": "code",
   "execution_count": null,
   "id": "b748fd20",
   "metadata": {},
   "outputs": [],
   "source": [
    "import os\n",
    "from dotenv import load_dotenv, find_dotenv\n",
    "\n",
    "load_dotenv(find_dotenv(), override=True)\n",
    "\n",
    "# You can add other package here if needed\n"
   ]
  },
  {
   "cell_type": "markdown",
   "id": "07900179",
   "metadata": {},
   "source": [
    "### Loading Documents"
   ]
  },
  {
   "cell_type": "code",
   "execution_count": null,
   "id": "e1ae19b5",
   "metadata": {},
   "outputs": [],
   "source": [
    "# The goal is to loading PDF, DOCX and TXT files as LangChain Documents\n",
    "def load_document(file):\n",
    "\n",
    "    name, extension = os.path.splitext(file) # check splitext()\n",
    "\n",
    "    if extension == '.pdf':\n",
    "        # Find how to load PDF document with https://python.langchain.com/docs/modules/data_connection/document_loaders/\n",
    "        print(f'Loading {file}')\n",
    "        #loader = ?\n",
    "    elif extension == '.docx':\n",
    "        # Find how to load DOCX document with https://python.langchain.com/docs/modules/data_connection/document_loaders/\n",
    "        print(f'Loading {file}')\n",
    "        #loader = ?)\n",
    "    elif extension == '.txt':\n",
    "        # Find how to load TXT document with https://python.langchain.com/docs/modules/data_connection/document_loaders/\n",
    "        #loader = ?\n",
    "    else:\n",
    "        print('Document format is not supported!')\n",
    "        return None\n",
    "\n",
    "    data = loader.load()\n",
    "\n",
    "    # Verification\n",
    "    if len(data) != 0:\n",
    "        return data\n",
    "    else\n",
    "        print('Document is empty')\n",
    "        return None\n",
    "  "
   ]
  },
  {
   "cell_type": "markdown",
   "id": "e8de1215-74a7-4cc1-95d4-e459c53b7905",
   "metadata": {},
   "source": [
    "#### Verification "
   ]
  },
  {
   "cell_type": "code",
   "execution_count": null,
   "id": "ded01fb4-cb85-448f-b4bc-52eb92efc440",
   "metadata": {},
   "outputs": [],
   "source": [
    "pdf_file=\"path_pdf_file\"\n",
    "docx_file=\"path_docx_file\"\n",
    "text_file=\"path_text_file\"\n",
    "\n",
    "print(load_document(pdf_file))\n",
    "print(load_document(docx_file))\n",
    "print(load_document(text_file))"
   ]
  },
  {
   "cell_type": "markdown",
   "id": "367bb8ad",
   "metadata": {},
   "source": [
    "### Chunking Data"
   ]
  },
  {
   "cell_type": "code",
   "execution_count": null,
   "id": "62c3cb39",
   "metadata": {},
   "outputs": [],
   "source": [
    "def chunk_data(data, chunk_size=256):\n",
    "    # Find how to load a built-in document transformers that make it easy to split with https://python.langchain.com/docs/modules/data_connection/document_transformers/\n",
    "    # text_splitter = ?\n",
    "    # chunks = split the data into chunks\n",
    "    \n",
    "    # Verification\n",
    "    if len(chunks) != 0:\n",
    "        return chunks\n",
    "    else\n",
    "        print('Document is not split')\n",
    "        return None\n",
    "    "
   ]
  },
  {
   "cell_type": "markdown",
   "id": "f1836be9-061f-4bd3-a342-ae5e57ffc626",
   "metadata": {},
   "source": [
    "#### Verification"
   ]
  },
  {
   "cell_type": "code",
   "execution_count": null,
   "id": "1885a99d-34c9-4cd9-808e-a8da3927705d",
   "metadata": {},
   "outputs": [],
   "source": [
    "data = load_document(text_file)\n",
    "chunks = chunk_data(data)\n",
    "print(len(chunks))"
   ]
  },
  {
   "cell_type": "markdown",
   "id": "27f92afa",
   "metadata": {},
   "source": [
    "### Embedding and Uploading to a Vector Database (Pinecone)"
   ]
  },
  {
   "cell_type": "code",
   "execution_count": null,
   "id": "0c72c3cf",
   "metadata": {},
   "outputs": [],
   "source": [
    "def insert_or_fetch_embeddings(index_name, chunks):\n",
    "    from pinecone import Pinecone, PodSpec\n",
    "    from langchain.vectorstores import Pinecone as Pinecone_langchain\n",
    "    from langchain.embeddings import CohereEmbeddings\n",
    "\n",
    "    # Find how to create embeddings instance \n",
    "    # embeddings = ?\n",
    "\n",
    "    # Initialize Pinecone  with API key \n",
    "    # pinecone = ?\n",
    "    \n",
    "    \n",
    "    if index_name in pinecone.list_indexes().names():\n",
    "        print(f'Index {index_name} already exists. Loading embeddings ... ', end='')\n",
    "        vector_store = Pinecone.from_existing_index(index_name, embeddings)\n",
    "        print('Ok')\n",
    "    else:\n",
    "        print(f'Creating index {index_name} and embeddings ...', end='')\n",
    "        # Create index\n",
    "        # TO DO\n",
    "        # Index the text chunks into Pinecone\n",
    "        # TO DO - use chunks/embeddings/index_name\n",
    "       \n",
    "        print('Ok')\n",
    "        \n",
    "    return vector_store\n",
    "    "
   ]
  },
  {
   "cell_type": "markdown",
   "id": "bdf1cb71-01f3-4157-8347-f76d9e76395a",
   "metadata": {},
   "source": [
    "#### Verification"
   ]
  },
  {
   "cell_type": "code",
   "execution_count": null,
   "id": "a6a64a8f-45b1-4c62-82bc-3211293e552f",
   "metadata": {},
   "outputs": [],
   "source": [
    "index_name=\"your_index_name\"\n",
    "\n",
    "vectorstore = insert_or_fetch_embeddings(index_name, chunks)\n",
    "if index_name in pinecone.list_indexes().names():\n",
    "        print(f'Index {index_name} already exists. Loading embeddings ... ', end='')\n",
    "        vector_store = Pinecone.from_existing_index(index_name, embeddings)\n",
    "        print('Verification complete')\n",
    "else:\n",
    "    print('Verification incomplete')\n"
   ]
  },
  {
   "cell_type": "code",
   "execution_count": null,
   "id": "52ef1091",
   "metadata": {},
   "outputs": [],
   "source": [
    "# can be helpful\n",
    "def delete_pinecone_index(index_name='all'):\n",
    "    \n",
    "    if index_name == 'all':\n",
    "        indexes = pinecone.list_indexes().names()\n",
    "        print('Deleting all indexes ... ')\n",
    "        for index in indexes:\n",
    "            pinecone.delete_index(index)\n",
    "        print('Ok')\n",
    "    else:\n",
    "        print(f'Deleting index {index_name} ...', end='')\n",
    "        pinecone.delete_index(index_name)\n",
    "        print('Ok')\n",
    "    "
   ]
  },
  {
   "cell_type": "markdown",
   "id": "462a94cb",
   "metadata": {},
   "source": [
    "### Asking and Getting Answers"
   ]
  },
  {
   "cell_type": "code",
   "execution_count": null,
   "id": "08b0a508",
   "metadata": {},
   "outputs": [],
   "source": [
    "def ask_and_get_answer(vector_store, q):\n",
    "    from langchain.chains import RetrievalQA\n",
    "    from langchain.chat_models import ChatCohere\n",
    "\n",
    "    # llm = ?\n",
    "\n",
    "    # retriever = ?\n",
    "\n",
    "    # chain = ?\n",
    "    \n",
    "    answer = chain.invoke(q)\n",
    "    return answer"
   ]
  },
  {
   "cell_type": "markdown",
   "id": "c1efe8fc",
   "metadata": {},
   "source": [
    "### Running Code in order to complete this project"
   ]
  },
  {
   "cell_type": "code",
   "execution_count": null,
   "id": "23fd7147",
   "metadata": {},
   "outputs": [],
   "source": [
    "data = load_document('path_document')\n",
    "\n",
    "print(f'You have {len(data)} pages in your data')\n",
    "print(f'There are {len(data[20].page_content)} characters in the page')"
   ]
  },
  {
   "cell_type": "code",
   "execution_count": null,
   "id": "64b5d7f5",
   "metadata": {},
   "outputs": [],
   "source": [
    "chunks = chunk_data(data)\n",
    "print(len(chunks))\n",
    "print(chunks[10].page_content)"
   ]
  },
  {
   "cell_type": "code",
   "execution_count": null,
   "id": "8f4f798d",
   "metadata": {},
   "outputs": [],
   "source": [
    "delete_pinecone_index()"
   ]
  },
  {
   "cell_type": "code",
   "execution_count": null,
   "id": "8525a620",
   "metadata": {},
   "outputs": [],
   "source": [
    "index_name = 'name_index'\n",
    "vector_store = insert_or_fetch_embeddings(index_name)"
   ]
  },
  {
   "cell_type": "code",
   "execution_count": null,
   "id": "6b158ff1",
   "metadata": {},
   "outputs": [],
   "source": [
    "q = 'What is the whole document about?'\n",
    "answer = ask_and_get_answer(vector_store, q)\n",
    "print(answer)"
   ]
  },
  {
   "cell_type": "code",
   "execution_count": null,
   "id": "00ddb48f",
   "metadata": {},
   "outputs": [],
   "source": [
    "import time\n",
    "i = 1\n",
    "print('Write Quit or Exit to quit.')\n",
    "while True:\n",
    "    q = input(f'Question #{i}: ')\n",
    "    i = i + 1\n",
    "    if q.lower() in ['quit', 'exit']:\n",
    "        print('Quitting ... bye bye!')\n",
    "        time.sleep(2)\n",
    "        break\n",
    "    \n",
    "    answer = ask_and_get_answer(vector_store, q)\n",
    "    print(f'\\nAnswer: {answer}')\n",
    "    print(f'\\n {\"-\" * 50} \\n')\n",
    "\n",
    "    "
   ]
  },
  {
   "cell_type": "code",
   "execution_count": null,
   "id": "775915c4",
   "metadata": {},
   "outputs": [],
   "source": [
    "delete_pinecone_index()"
   ]
  }
 ],
 "metadata": {
  "kernelspec": {
   "display_name": "Python 3 (ipykernel)",
   "language": "python",
   "name": "python3"
  },
  "language_info": {
   "codemirror_mode": {
    "name": "ipython",
    "version": 3
   },
   "file_extension": ".py",
   "mimetype": "text/x-python",
   "name": "python",
   "nbconvert_exporter": "python",
   "pygments_lexer": "ipython3",
   "version": "3.11.7"
  }
 },
 "nbformat": 4,
 "nbformat_minor": 5
}
