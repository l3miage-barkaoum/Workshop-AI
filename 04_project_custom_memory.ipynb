{
 "cells": [
  {
   "cell_type": "markdown",
   "id": "f193828c-cca1-422f-a0a0-f27896ca3bd1",
   "metadata": {},
   "source": [
    "# Project : Custom Cohere with memory\n",
    "\n",
    "Have you may have seen, there is no memory conversation with our previous LLM. \n",
    "\n",
    "Chatbots are one of the central LLM use-cases. The core features of chatbots are that they can have long-running conversations and have access to information that users want to know about.\n",
    "\n",
    "Aside from basic prompting and LLMs, memory and retrieval are the core components of a chatbot. Memory allows a chatbot to remember past interactions, and retrieval provides a chatbot with up-to-date, domain-specific information.\n",
    "\n",
    "In this project we will focus on memory.\n",
    "\n",
    "You will find everything needed here : https://python.langchain.com/docs/modules/memory/ "
   ]
  },
  {
   "cell_type": "markdown",
   "id": "2c99f7ec-64c8-415c-a8e9-33c8042bb26d",
   "metadata": {},
   "source": [
    "### Complete pre-requisite"
   ]
  },
  {
   "cell_type": "markdown",
   "id": "7ff372e2-dbf4-476c-bee7-09d551d43883",
   "metadata": {},
   "source": [
    "#### Packages"
   ]
  },
  {
   "cell_type": "code",
   "execution_count": 1,
   "id": "60530a1d",
   "metadata": {},
   "outputs": [],
   "source": [
    "import os\n",
    "from dotenv import load_dotenv, find_dotenv\n",
    "load_dotenv(find_dotenv(), override=True)\n",
    "\n",
    "from langchain.schema import SystemMessage\n",
    "from langchain.memory import (ConversationBufferMemory, \n",
    "                              ConversationSummaryMemory,\n",
    "                              ConversationBufferWindowMemory,\n",
    "                              ConversationKGMemory)\n",
    "from langchain.prompts import ChatPromptTemplate, HumanMessagePromptTemplate, MessagesPlaceholder\n",
    "\n",
    "\n",
    "# You can add other package here if needed\n",
    "    "
   ]
  },
  {
   "cell_type": "markdown",
   "id": "6efe4eba-f301-4f50-9260-a7ddb778afac",
   "metadata": {},
   "source": [
    "#### Initialize LLM & ConversationChain\n",
    "\n",
    "A ConversationChain is a type of chain that is specifically designed to handle conversations or dialogues, as opposed to individual inputs."
   ]
  },
  {
   "cell_type": "code",
   "execution_count": 3,
   "id": "f36fd57c-ec76-49e6-95ae-368e836725ef",
   "metadata": {},
   "outputs": [
    {
     "name": "stdout",
     "output_type": "stream",
     "text": [
      "The following is a friendly conversation between a human and an AI. The AI is talkative and provides lots of specific details from its context. If the AI does not know the answer to a question, it truthfully says it does not know.\n",
      "\n",
      "Current conversation:\n",
      "{history}\n",
      "Human: {input}\n",
      "AI:\n"
     ]
    }
   ],
   "source": [
    "from langchain.llms import Cohere\n",
    "from langchain.chains import ConversationChain\n",
    "COHERE_API_KEY = os.environ.get('COHERE_API_KEY')\n",
    "llm = Cohere(max_tokens=512,cohere_api_key=COHERE_API_KEY)\n",
    "\n",
    "# We will use a ConversationChain for our project\n",
    "conversation = ConversationChain(llm=llm)\n",
    "print(conversation.prompt.template)\n"
   ]
  },
  {
   "cell_type": "markdown",
   "id": "e771f89a-0a87-4b68-9cd4-6c8e481a89ea",
   "metadata": {},
   "source": [
    "## Memory types\n",
    "\n",
    "In this section we will review several memory types and analyze the pros and cons of each one, so you can choose the best one for your use case.\n",
    "\n"
   ]
  },
  {
   "cell_type": "markdown",
   "id": "1370c0b7",
   "metadata": {},
   "source": [
    "### ConversationBufferMemory\n",
    "\n",
    "The conversation buffer memory keeps the previous pieces of conversation completely unmodified, in their raw form."
   ]
  },
  {
   "cell_type": "code",
   "execution_count": 10,
   "id": "c0a3e2d8",
   "metadata": {},
   "outputs": [],
   "source": [
    "from langchain.llms import Cohere\n",
    "from langchain.chains import ConversationChain\n",
    "from langchain.memory import ConversationBufferMemory\n",
    "\n",
    "# Création d'une instance de ConversationBufferMemory\n",
    "conversation_buffer_memory = ConversationBufferMemory()\n",
    "\n",
    "# Initialisation d'une ConversationChain avec le modèle de langage et la mémoire\n",
    "conversation_with_buffer_memory = ConversationChain(llm=llm, memory=conversation_buffer_memory)\n",
    "\n",
    "    "
   ]
  },
  {
   "cell_type": "markdown",
   "id": "14c797b8-9db8-4f1c-8d3d-bf856565b68b",
   "metadata": {},
   "source": [
    "#### verification"
   ]
  },
  {
   "cell_type": "code",
   "execution_count": 11,
   "id": "77638288-af34-4103-9f09-7ca0c7491dd3",
   "metadata": {},
   "outputs": [
    {
     "name": "stdout",
     "output_type": "stream",
     "text": [
      "Human: What is the capital of France ?\n",
      "AI:  The capital of France is Paris. It is located in the north-central part of the country, on the River Seine, and is one of the most populous and well-known cities in the world.\n",
      "\n",
      "Paris is divided into 20 arrondissements (administrative districts) surrounded by the broader Parisian agglomeration. Historical landmarks include the Eiffel Tower, Notre-Dame Cathedral, the Louvre Museum, the Arc de Triomphe, and the Palace of Versailles. \n",
      "\n",
      "It is known for its fashion, art, cuisine, and culture. Would you like to know more about Paris ? \n",
      "Human: What is the capital of Spain ?\n",
      "AI:  The capital of Spain is Madrid. It is located in the central part of the country, on the Manzanares River, and is also one of the most populous and famous cities in the world.\n",
      "\n",
      "Madrid serves as an important political, economic, cultural, and educational center not only for Spain but also for Southern Europe and the Latin American region. It is host to the Spanish Royal Family and the seat of the Spanish Government as well as many prominent museums such as the Prado Museum and the Reina Sofía Museum.\n",
      "\n",
      "Would you like me to provide more information on Madrid ? \n",
      "Human: What is the capital of Angola ?\n",
      "AI:  Unfortunately, I do not know the answer to this question. The country of Angola became independent in 1975, therefore I doubt that any capital city was established before that time. \n",
      "\n",
      "Would you like me to answer any other questions about the world capitals? \n"
     ]
    }
   ],
   "source": [
    "conversation_with_buffer_memory.invoke(\"What is the capital of France ?\")\n",
    "\n",
    "conversation_with_buffer_memory.invoke(\"What is the capital of Spain ?\")\n",
    "\n",
    "conversation_with_buffer_memory.invoke(\"What is the capital of Angola ?\")\n",
    "\n",
    "# We should be able to get the whole conversation inside the memory\n",
    "print(conversation_with_buffer_memory.memory.buffer)"
   ]
  },
  {
   "cell_type": "markdown",
   "id": "6c59f2c5-c7d0-4ee1-b345-d73f28678e5e",
   "metadata": {},
   "source": [
    "#### From your observations - Gives the pros and cons of this memory \n",
    "\n",
    "##### Pros\n",
    "\n",
    "- Stockage de l'historique de la conversation : La mémoire conserve un enregistrement des questions posées par l'utilisateur et des réponses fournies par l'IA. Cela permet à l'IA de se souvenir du contexte de la conversation et d'adapter ses réponses en conséquence.\n",
    "- En conservant une trace des questions précédentes, l'IA peut apprendre et s'améliorer avec le temps. Si elle ne peut pas répondre à une question lors d'une interaction, elle peut utiliser les informations stockées dans la mémoire pour enrichir sa base de connaissances\n",
    "\n",
    "##### Cons\n",
    "\n",
    "- Si la taille du buffer est trop petite, l'IA risque de perdre le contexte des interactions passées plus rapidement, ce qui pourrait entraîner des réponses moins pertinentes ou cohérentes dans le cadre de la conversation.\n",
    "- La qualité des réponses de l'IA dépend fortement de la qualité des interactions précédentes stockées dans la mémoire. Si les questions posées précédemment étaient mal formulées ou si les réponses étaient incorrectes, cela pourrait affecter négativement les performances de l'IA dans les interactions futures\n",
    "\n"
   ]
  },
  {
   "cell_type": "markdown",
   "id": "3a537a81-5550-4798-af4d-ac122ca26e36",
   "metadata": {},
   "source": [
    "### ConversationSummaryMemory\n",
    "\n",
    "The conversation summary memory creates a summary of the conversation over time. "
   ]
  },
  {
   "cell_type": "code",
   "execution_count": 14,
   "id": "fb64c989-580d-4880-acef-924e57184ac2",
   "metadata": {},
   "outputs": [],
   "source": [
    "from langchain.llms import Cohere\n",
    "from langchain.chains import ConversationChain\n",
    "from langchain.memory import ConversationSummaryMemory\n",
    "\n",
    "conversation_with_summary_memory = ConversationSummaryMemory(llm=llm)\n",
    "converstation_summary_memory = ConversationChain(llm=llm, memory=conversation_with_summary_memory)\n",
    "    "
   ]
  },
  {
   "cell_type": "markdown",
   "id": "a1808ae3-6388-460f-b431-55ed46833d3d",
   "metadata": {},
   "source": [
    "#### Verification"
   ]
  },
  {
   "cell_type": "code",
   "execution_count": 15,
   "id": "df8f39d6-8638-424e-813d-bde910f3f910",
   "metadata": {},
   "outputs": [
    {
     "name": "stderr",
     "output_type": "stream",
     "text": [
      "Retrying langchain_community.llms.cohere.completion_with_retry.<locals>._completion_with_retry in 4.0 seconds as it raised TooManyRequestsError: status_code: 429, body: {'message': \"You are using a Trial key, which is limited to 5 API calls / minute. You can continue to use the Trial key for free or upgrade to a Production key with higher rate limits at 'https://dashboard.cohere.com/api-keys'. Contact us on 'https://discord.gg/XW44jPfYJu' or email us at support@cohere.com with any questions\"}.\n",
      "Retrying langchain_community.llms.cohere.completion_with_retry.<locals>._completion_with_retry in 4.0 seconds as it raised TooManyRequestsError: status_code: 429, body: {'message': \"You are using a Trial key, which is limited to 5 API calls / minute. You can continue to use the Trial key for free or upgrade to a Production key with higher rate limits at 'https://dashboard.cohere.com/api-keys'. Contact us on 'https://discord.gg/XW44jPfYJu' or email us at support@cohere.com with any questions\"}.\n"
     ]
    },
    {
     "name": "stdout",
     "output_type": "stream",
     "text": [
      " The human asks the AI to provide a detailed historical chronology of Germany with dates and events. The AI lists six eras with noteworthy dates and events, from prehistory to the Holy Roman Empire. Some important social, political, and economic milestones include the fall of the Roman Empire, the Black Death, and the rise of Christianity in Spain. \n"
     ]
    }
   ],
   "source": [
    "converstation_summary_memory.invoke(\"Gives me the historical chronology of France. I want as much dates and events as possibles.\")\n",
    "\n",
    "converstation_summary_memory.invoke(\"Gives me the historical chronology of Spain. I want as much dates and events as possibles.\")\n",
    "\n",
    "converstation_summary_memory.invoke(\"Gives me the historical chronology of Germany. I want as much dates and events as possibles.\")\n",
    "\n",
    "# We should be able to get the whole conversation inside the memory\n",
    "print(converstation_summary_memory.memory.buffer)"
   ]
  },
  {
   "cell_type": "markdown",
   "id": "44b863bb-4d86-4e4f-9ebb-9178f0aa5017",
   "metadata": {},
   "source": [
    "#### From your observations - Gives the pros and cons of this memory \n",
    "\n",
    "##### Pros\n",
    "\n",
    "- Résumé concit qui facilite l'obtention des informations rapidement\n",
    "- Mise en évidence des élèments clés et pértinents de la conversation \n",
    "\n",
    "##### Cons\n",
    "\n",
    "- Perte de détails par rapport à une mémoire qui stocke l'historique complet de chaque interaction\n",
    "- Limitation de la rétroaction et de l'apprentissage : En résumant les interactions, la mémoire ConversationSummaryMemory peut limiter la quantité de rétroaction et d'apprentissage que l'IA peut tirer des interactions passées\n",
    "\n"
   ]
  },
  {
   "cell_type": "markdown",
   "id": "e2877c34-de6b-4d7a-9e69-89092422c9e3",
   "metadata": {},
   "source": [
    "### ConversationSummaryBufferMemory\n",
    "\n",
    "The conversation summary buffer memory keeps a buffer of recent interactions in memory, but rather than just completely flushing old interactions, it compiles them into a summary and uses both."
   ]
  },
  {
   "cell_type": "code",
   "execution_count": 17,
   "id": "6c71c89e-7fcb-4034-aa81-5cd21a7dae0b",
   "metadata": {},
   "outputs": [],
   "source": [
    "\n",
    "from langchain.llms import Cohere\n",
    "from langchain.chains import ConversationChain\n",
    "from langchain.memory import ConversationSummaryBufferMemory\n",
    "\n",
    "conversation_summary_buffer_memory = ConversationSummaryBufferMemory(llm=llm)\n",
    "conversation_with_summary_buffer_memory = ConversationChain(llm=llm, memory=conversation_summary_buffer_memory)\n",
    "\n",
    "    "
   ]
  },
  {
   "cell_type": "markdown",
   "id": "5fc21042-4c73-4ce1-b797-d8fff0902b71",
   "metadata": {},
   "source": [
    "#### Verification"
   ]
  },
  {
   "cell_type": "code",
   "execution_count": 18,
   "id": "85e3342e-2787-4f79-9103-9399b2ede8af",
   "metadata": {},
   "outputs": [
    {
     "name": "stderr",
     "output_type": "stream",
     "text": [
      "C:\\Users\\Barkaoui\\Desktop\\M2\\Workshop-AI\\myvenv3\\Lib\\site-packages\\tqdm\\auto.py:21: TqdmWarning: IProgress not found. Please update jupyter and ipywidgets. See https://ipywidgets.readthedocs.io/en/stable/user_install.html\n",
      "  from .autonotebook import tqdm as notebook_tqdm\n"
     ]
    },
    {
     "name": "stdout",
     "output_type": "stream",
     "text": [
      "[HumanMessage(content='Gives me the historical chronology of France. I want as much dates and events as possibles.'), AIMessage(content=' Sure! Here is an extensive list of important dates and events in French history. \\n\\nPrehistory - the Paleolithic and Neanderthal eras (50,000 to 10,000 BC). During the Upper Paleolithic, the Aurignacian culture brings Neanderthals to extinction through advanced stone tools, jewelry, and figurative art such as the Venus of Brassempouy.\\n\\n Protohistory - the Celtic and Gallic periods (1200 BC to 51 BC). The Celtic Hallstatt culture emerges around 750 BC, followed by the La Tène culture from 450 BC. Mass migrations across Europeoccur around 300 BC, including the first Celtic invasions of Italy, Greece, and Asia Minor. \\n\\nThe Roman period (51 BC to 486 AD). Gaul is conquered by Julius Caesar between 58 and 51 BC and becomes a Roman province. The Gallo-Roman culture emerges, followed by Christianity from around AD 200. The earliest Romanesque architecture appears in the 2nd century AD, foreshadowing the Gothic style. \\n\\nThe Middle Ages (486 to 1542). The Franks arrive in Gaul in 486 and establish the Kingdom of France, which undergoes feudal division. The Merovingian dynasty (481-751) comes to an end with the rise of the Carolingian dynasty. In the 8th century, the Scandinavian Vikings or Norsemen establish the Duchy of Normandy in northern France. Following the Hundred Years War (1337 to 1453) between France and England, France reaches its territorial peak during the 16th century reign of King Francis I. The Renaissance in France accelerates after his reign, becoming the French Renaissance (1542 to 1626). \\n\\nThe Modern era (1542 to present). The French Wars of Religion (1562 to 1598) tear the country apart, ending with the rise of the Bourbon dynasty and the ascendance of absolute monarchy under Louis XIV. The French Revolution (1789 to 1799) marks a turning point in modern history, culminating in the Declaration of the Rights of Man and of the Citizen and the rise of Napoleon Bonaparte as Emperor. This ushers in the Napoleonic Era (1804 to 1815) and the Continental System, triggering the War of 1812 between France and Britain. The French Restoration follows from 1814 to 1830, followed by the July Revolution of 1830 and the rise of the Citizen King Louis-Philippe. Another revolution in 1848 establishes the Second Republic, ushering in the Belle Époque (1871 to 1914) and the flourishing of art, culture, and science in France. \\n'), HumanMessage(content='Gives me the historical chronology of Spain. I want as much dates and events as possibles.'), AIMessage(content=\" Certainly! Here is a detailed account of the important dates and events in Spanish history: \\n\\nThe Prehistory of Spain spans approximately 1,000,000 years, from the end of the last glacial period around 12,000 BC to the emergence of writing and metallurgy around 2000 BC. During this time, the Iberian Peninsula was home to various prehistoric cultures, including the Aurignacian culture of the Paleolithic period and the Neolithic period's Cardium culture. \\n\\nThe Celtic and Gallic periods, from 1200 BC to 51 BC, witnessed the arrival of the Celts on the Iberian Peninsula. They established powerful tribal confederations like the Celtiberians and the Lusitanians. La Tène culture influenced artwork and decoration during this period. \\n\\nThe Roman period, from 200 BC to 400 AD, began when the peninsula was annexed by the future Roman Empire. The Battle of Thermopylae in 197 BC and the Battle of Cantabria in 29 BC were pivotal moments in resisting the Roman conquest. The Romans introduced their culture, engineered marvels, and Latin became the common language. \\n\\nDuring the Middle Ages, from 600 to 1492, the Iberian Peninsula underwent the Visigoth conquest before Islam spread across the peninsula. The Moors brought advances in agriculture, architecture, and science. The period witnessed the Reconquista, when Christian kingdoms expanded south, culminating in the fall of Granada and the Expulsion of the Jews and Muslims. \\n\\nThe Modern era, from 1492 to the present, was marked by the Spanish colonization of the Americas. Spain became a global empire, leading to the Age of Discovery. This era saw the Spanish Inquisition, the Spanish Armada, and the loss of most Spanish colonies. Spain's 20th-century history involved the Spanish Civil War and the Second World War, ending with the Francisco Franco regime and the current constitutional monarchy. \\n\\nThis timeline provides a broad overview of significant events. I hope this helps capture the crucial dates and events that defined Spain's rich history. Let me know if you would like more details about specific events or eras. \"), HumanMessage(content='Gives me the historical chronology of Germany. I want as much dates and events as possibles.'), AIMessage(content=\" Certainly! Here is a detailed account of important dates and events in German history: \\n\\nThe Prehistory of Germany dates back to the Paleolithic and Neanderthal eras, approximately 100,000 to 10,000 BC. The Germanic tribes slowly migrated towards present-day Germany during the Neolithic period. \\n\\nThe Celtic period began around 1200 BC, marking the arrival of the Celtic tribes on the continent, including present-day Germany. This era saw the emergence of Celtic cultures and influences in central Europe.\\n\\nThe Gallic and Lusitanian wars ensued from 280 to 76 BC as the rising Roman Republic battled to conquer key Celtic territories in present-day Germany. The Battle of Teutoburg Forest in 9 AD, led by Germanic leader Arminius, left Roman forces devastated, resulting in the retreat of Roman armies and the cessation of territorial expansion. \\n\\nThe Roman period lasted from 44 BC to 496 AD, ushering in the consolidation of later Roman Empire rule. Engineering marvels like Hadrian's Wall and the Pantheon were constructed during this time. Christianity was also introduced around AD 200. \\n\\nThe Middle Ages, from 496 to 1454, was characterized by therule of the Merovingian dynasty and the Carolingian dynasty. This era witnessed the emergence of feudalism and the division of the country into numerous small principalities and counties. The Huns invaded Europe during the 5th century, with their presence felt in present-day Germany. \\n\\nThe Modern era began in 1454, with the Holy Roman Empire progressively weakening amid the Protestant Reformation and Thirty Years' War (1618-1648). The German Enlightenment and the Age of Discovery led to the German Empire and the rise of Prussia during the 19th century. \\n\\nThe German Empire became the dominant power in Europe until the outbreak of the First World War in 1914. The subsequent defeat led to the fall of the empire and the rise of the Weimar Republic, ushering in the Roaring Twenties' cultural explosion. \\n\\nThe Nazi Party came to power during the Great Depression, ushering in Adolf Hitler's regime and the commencement of World War II in 1939. The war culminated in the Holocaust and the systematic extermination of European Jews and other minorities. The allied powers defeated Nazi Germany after intense battles and carpet bombing that destroyed cities across Germany. \\n\\nGerman reunification followed after the Cold War, forming the modern state of Germany. This brief timeline captures crucial dates and events that shaped Germany's rich historical journey. Let me know if you would like\")]\n"
     ]
    }
   ],
   "source": [
    "conversation_with_summary_buffer_memory.invoke(\"Gives me the historical chronology of France. I want as much dates and events as possibles.\")\n",
    "\n",
    "conversation_with_summary_buffer_memory.invoke(\"Gives me the historical chronology of Spain. I want as much dates and events as possibles.\")\n",
    "\n",
    "conversation_with_summary_buffer_memory.invoke(\"Gives me the historical chronology of Germany. I want as much dates and events as possibles.\")\n",
    "\n",
    "# We should be able to get the whole conversation inside the memory\n",
    "print(conversation_with_summary_buffer_memory.memory.buffer)"
   ]
  },
  {
   "cell_type": "markdown",
   "id": "f94d108d-d2a8-47ab-a552-5eb970e202ca",
   "metadata": {},
   "source": [
    "#### From your observations - Gives the pros and cons of this memory \n",
    "\n",
    "##### Pros\n",
    "\n",
    "-\n",
    "-\n",
    "\n",
    "##### Cons\n",
    "\n",
    "-\n",
    "-\n",
    "\n"
   ]
  }
 ],
 "metadata": {
  "kernelspec": {
   "display_name": "Python 3 (ipykernel)",
   "language": "python",
   "name": "python3"
  },
  "language_info": {
   "codemirror_mode": {
    "name": "ipython",
    "version": 3
   },
   "file_extension": ".py",
   "mimetype": "text/x-python",
   "name": "python",
   "nbconvert_exporter": "python",
   "pygments_lexer": "ipython3",
   "version": "3.12.2"
  }
 },
 "nbformat": 4,
 "nbformat_minor": 5
}
